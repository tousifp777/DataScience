{
 "cells": [
  {
   "cell_type": "markdown",
   "id": "c1b02277",
   "metadata": {},
   "source": [
    "###  Data stucture in python"
   ]
  },
  {
   "cell_type": "code",
   "execution_count": 29,
   "id": "1ef23001",
   "metadata": {},
   "outputs": [
    {
     "name": "stdout",
     "output_type": "stream",
     "text": [
      "[10, 20, 30, 40]\n",
      "<class 'list'>\n",
      "[10, 20, 30, 40, 50]\n"
     ]
    }
   ],
   "source": [
    "# Data Structures in python programming\n",
    "\n",
    "'''\n",
    "1. List : []  . Mutable in Nature\n",
    "2. Tuple :() . Immutable in Nature\n",
    "3. Dictionary : {'key1':Value, 'key2',Value2} : Immutable in Nature\n",
    "4. sets  : {1,2,3,4,5} : Immutable in Nature\n",
    "'''\n",
    "# if Your are performming any computational software development program tuple is most preferred\n",
    "# List Definition \n",
    "\n",
    "lst = [10,20,30,40]\n",
    "print(lst)\n",
    "print(type(lst))\n",
    "# append() this is function which defined in class list \n",
    "# Therefore, append() is a method of class list \n",
    "# lst. append(50) :you are calling function using. operator\n",
    "lst.append(50)\n",
    "print(lst)"
   ]
  },
  {
   "cell_type": "code",
   "execution_count": 30,
   "id": "c107e5e4",
   "metadata": {},
   "outputs": [
    {
     "name": "stdout",
     "output_type": "stream",
     "text": [
      "[5, 10, 20, 30, 40, 50]\n"
     ]
    }
   ],
   "source": [
    "lst.insert(0,5) #this function will add the value 5 at an index 0\n",
    "print(lst)"
   ]
  },
  {
   "cell_type": "code",
   "execution_count": 31,
   "id": "4191dcf2",
   "metadata": {},
   "outputs": [
    {
     "data": {
      "text/plain": [
       "1"
      ]
     },
     "execution_count": 31,
     "metadata": {},
     "output_type": "execute_result"
    }
   ],
   "source": [
    "lst.count(50) #use to count a particular number count"
   ]
  },
  {
   "cell_type": "code",
   "execution_count": 32,
   "id": "a8cfd22d",
   "metadata": {},
   "outputs": [
    {
     "data": {
      "text/plain": [
       "50"
      ]
     },
     "execution_count": 32,
     "metadata": {},
     "output_type": "execute_result"
    }
   ],
   "source": [
    "lst.pop() #this is use to pop or delete the last value"
   ]
  },
  {
   "cell_type": "code",
   "execution_count": 33,
   "id": "b3a04e13",
   "metadata": {},
   "outputs": [
    {
     "name": "stdout",
     "output_type": "stream",
     "text": [
      "[5, 10, 20, 30, 40]\n"
     ]
    }
   ],
   "source": [
    "print(lst)"
   ]
  },
  {
   "cell_type": "code",
   "execution_count": 34,
   "id": "bc883485",
   "metadata": {},
   "outputs": [
    {
     "name": "stdout",
     "output_type": "stream",
     "text": [
      "[5, 10, 20, 10, 30, 40]\n"
     ]
    }
   ],
   "source": [
    "lst.insert(3,10)\n",
    "print(lst)"
   ]
  },
  {
   "cell_type": "code",
   "execution_count": 35,
   "id": "840a42e4",
   "metadata": {},
   "outputs": [
    {
     "name": "stdout",
     "output_type": "stream",
     "text": [
      "[5, 20, 10, 30, 40]\n"
     ]
    }
   ],
   "source": [
    "lst.remove(10) #use to remove a specified value\n",
    "print(lst)"
   ]
  },
  {
   "cell_type": "code",
   "execution_count": 36,
   "id": "315fe5fb",
   "metadata": {},
   "outputs": [
    {
     "name": "stdout",
     "output_type": "stream",
     "text": [
      "[10, 20, 20, 5, 50]\n"
     ]
    }
   ],
   "source": [
    "lst=[10,10,20,30,20,5,50,20] #new list\n",
    "lst.pop()\n",
    "lst.remove(10)\n",
    "lst.remove(30)\n",
    "print(lst)"
   ]
  },
  {
   "cell_type": "code",
   "execution_count": 37,
   "id": "e07a5d9f",
   "metadata": {},
   "outputs": [
    {
     "name": "stdout",
     "output_type": "stream",
     "text": [
      "[10, 30, 50]\n",
      "[60, 50, 40, 30, 20, 10]\n",
      "30\n"
     ]
    }
   ],
   "source": [
    "#concept of indexing and slicing on list\n",
    "lst=[10,20,30,40,50,60]\n",
    "print(lst[0::2])\n",
    "print(lst [::-1])\n",
    "print(lst [2])"
   ]
  },
  {
   "cell_type": "code",
   "execution_count": 38,
   "id": "d74551ea",
   "metadata": {},
   "outputs": [
    {
     "data": {
      "text/plain": [
       "5"
      ]
     },
     "execution_count": 38,
     "metadata": {},
     "output_type": "execute_result"
    }
   ],
   "source": [
    "lst = [10,20,30,[40,50,60],[1,[2,[3,4,5,6],7],8,9],10]\n",
    "#need output 5\n",
    "lst[4][1][1][2]"
   ]
  },
  {
   "cell_type": "code",
   "execution_count": 39,
   "id": "111261ff",
   "metadata": {},
   "outputs": [
    {
     "data": {
      "text/plain": [
       "60"
      ]
     },
     "execution_count": 39,
     "metadata": {},
     "output_type": "execute_result"
    }
   ],
   "source": [
    "lst = [10,20,[1,2,3,[10,20,[30,[40,50,[60],70],90],9,100],1000],2000,[10000]]\n",
    "# need output 60\n",
    "lst[2][3][2][1][2][0] "
   ]
  },
  {
   "cell_type": "code",
   "execution_count": 40,
   "id": "4fac328b",
   "metadata": {},
   "outputs": [
    {
     "name": "stdout",
     "output_type": "stream",
     "text": [
      "<class 'tuple'>\n"
     ]
    }
   ],
   "source": [
    "# Tuple Defination\n",
    "\n",
    "tup = (10,20,30,40)\n",
    "print(type(tup))"
   ]
  },
  {
   "cell_type": "code",
   "execution_count": 41,
   "id": "5f3f0b0f",
   "metadata": {},
   "outputs": [
    {
     "data": {
      "text/plain": [
       "0"
      ]
     },
     "execution_count": 41,
     "metadata": {},
     "output_type": "execute_result"
    }
   ],
   "source": [
    "tup.index(10)"
   ]
  }
 ],
 "metadata": {
  "kernelspec": {
   "display_name": "base",
   "language": "python",
   "name": "python3"
  },
  "language_info": {
   "codemirror_mode": {
    "name": "ipython",
    "version": 3
   },
   "file_extension": ".py",
   "mimetype": "text/x-python",
   "name": "python",
   "nbconvert_exporter": "python",
   "pygments_lexer": "ipython3",
   "version": "3.12.7"
  }
 },
 "nbformat": 4,
 "nbformat_minor": 5
}
