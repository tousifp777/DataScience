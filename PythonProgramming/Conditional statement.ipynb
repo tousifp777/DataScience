{
 "cells": [
  {
   "cell_type": "markdown",
   "id": "cbb63403",
   "metadata": {},
   "source": [
    "### Condition Statement"
   ]
  },
  {
   "cell_type": "code",
   "execution_count": 1,
   "id": "addd2956",
   "metadata": {},
   "outputs": [
    {
     "name": "stdout",
     "output_type": "stream",
     "text": [
      "The value is 10\n"
     ]
    }
   ],
   "source": [
    "# Conditional statement\n",
    "\n",
    "'''\n",
    "if condition  == True:\n",
    "    perform Operation inside the loop\n",
    "else:\n",
    "    perform this operation\n",
    "\n",
    "Note : = : Assignment Operator\n",
    "        == : Compariosn Operator\n",
    "\n",
    "'''\n",
    " \n",
    "num = 10\n",
    " \n",
    "\n",
    "if num ==10:\n",
    "    print(\"The value is 10\")\n",
    "else:\n",
    "    print(\"The Value is  not 10\")\n",
    "\n"
   ]
  },
  {
   "cell_type": "code",
   "execution_count": 4,
   "id": "dd01113b",
   "metadata": {},
   "outputs": [
    {
     "name": "stdout",
     "output_type": "stream",
     "text": [
      "the given string is pallendrom\n"
     ]
    }
   ],
   "source": [
    "#Check wheather the string is Palindrom or not\n",
    "\n",
    "text = \"dad\"\n",
    "text1 = text[::-1]\n",
    "\n",
    "if text  == text1:\n",
    "    print(\"the given string is pallendrom\")\n",
    "else:\n",
    "    print(\"the string is not a pallendrome\")"
   ]
  },
  {
   "cell_type": "code",
   "execution_count": null,
   "id": "60c8d286",
   "metadata": {},
   "outputs": [],
   "source": [
    "'''\n",
    "if condition:\n",
    "statement\n",
    "elif condition\n",
    "else:\n",
    "statement\n",
    "\n",
    "'''"
   ]
  },
  {
   "cell_type": "code",
   "execution_count": 9,
   "id": "781837f5",
   "metadata": {},
   "outputs": [
    {
     "name": "stdout",
     "output_type": "stream",
     "text": [
      "average student\n"
     ]
    }
   ],
   "source": [
    "'''\n",
    "marks>80 : best student\n",
    "\n",
    "marks between 60 to 79 : good student\n",
    "\n",
    "marks betwewn 50 to 59 :average student\n",
    "\n",
    "marks <49 : poor student\n",
    "\n",
    "'''\n",
    "\n",
    "\n",
    "marks = float(input(\"Enter your marks : \"))\n",
    "\n",
    "if  marks >= 80:\n",
    "    print(\"best student\")\n",
    "elif marks <80 and marks > 60:\n",
    "    print (\"good student\")\n",
    "elif marks <60 and marks >50:\n",
    "    print (\"average student\")\n",
    "else :\n",
    "    print (\"poor student\")"
   ]
  },
  {
   "cell_type": "code",
   "execution_count": 16,
   "id": "a099b34b",
   "metadata": {},
   "outputs": [
    {
     "name": "stdout",
     "output_type": "stream",
     "text": [
      "withdraw fail\n"
     ]
    }
   ],
   "source": [
    "'''\n",
    "balance = 10000\n",
    "\n",
    "withdraw = amount\n",
    "\n",
    "threshhold = 2000\n",
    "\n",
    "'''\n",
    "\n",
    "balance = 10000\n",
    "withdraw = float(input(\" ENTER WITHDRAWL AMOUNT : \"))\n",
    "if withdraw >= balance:\n",
    " print(\"Insufficient balance\")\n",
    "if withdraw <= balance:\n",
    " new_balance = balance-withdraw\n",
    "if new_balance >= 2000:\n",
    " print(\"new balance is \", new_balance)\n",
    "else:\n",
    " print(\"withdraw fail\")"
   ]
  },
  {
   "cell_type": "code",
   "execution_count": 17,
   "id": "b588e917",
   "metadata": {},
   "outputs": [
    {
     "name": "stdout",
     "output_type": "stream",
     "text": [
      "0\n",
      "1\n",
      "2\n",
      "3\n",
      "4\n",
      "5\n",
      "6\n",
      "7\n",
      "8\n",
      "9\n",
      "10\n"
     ]
    }
   ],
   "source": [
    "# For loop \n",
    "for i in range(0,11):\n",
    "    print(i)"
   ]
  },
  {
   "cell_type": "code",
   "execution_count": 22,
   "id": "3191d945",
   "metadata": {},
   "outputs": [
    {
     "name": "stdout",
     "output_type": "stream",
     "text": [
      "1 2 3 4 5 6 7 8 9 10 "
     ]
    }
   ],
   "source": [
    "for i in range(1,11):\n",
    "    print(i, end = \" \")"
   ]
  },
  {
   "cell_type": "code",
   "execution_count": 35,
   "id": "40420512",
   "metadata": {},
   "outputs": [
    {
     "name": "stdout",
     "output_type": "stream",
     "text": [
      "\n",
      "*\n",
      "**\n",
      "***\n",
      "****\n",
      "*****\n",
      "******\n",
      "*******\n",
      "********\n",
      "*********\n",
      "**********\n"
     ]
    }
   ],
   "source": [
    "for i in range(11):\n",
    "    print('*'*i)"
   ]
  },
  {
   "cell_type": "code",
   "execution_count": 36,
   "id": "1ac0a224",
   "metadata": {},
   "outputs": [
    {
     "name": "stdout",
     "output_type": "stream",
     "text": [
      "\n",
      "*\n",
      "****\n",
      "*********\n",
      "****************\n",
      "*************************\n",
      "************************************\n",
      "*************************************************\n",
      "****************************************************************\n",
      "*********************************************************************************\n",
      "****************************************************************************************************\n"
     ]
    }
   ],
   "source": [
    "for i in range(11):\n",
    "    print('*'*i*i)"
   ]
  }
 ],
 "metadata": {
  "kernelspec": {
   "display_name": "base",
   "language": "python",
   "name": "python3"
  },
  "language_info": {
   "codemirror_mode": {
    "name": "ipython",
    "version": 3
   },
   "file_extension": ".py",
   "mimetype": "text/x-python",
   "name": "python",
   "nbconvert_exporter": "python",
   "pygments_lexer": "ipython3",
   "version": "3.12.7"
  }
 },
 "nbformat": 4,
 "nbformat_minor": 5
}
