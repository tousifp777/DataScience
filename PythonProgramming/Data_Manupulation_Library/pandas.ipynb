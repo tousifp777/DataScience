{
 "cells": [
  {
   "cell_type": "code",
   "execution_count": 4,
   "id": "6737e890",
   "metadata": {},
   "outputs": [],
   "source": [
    "#Import Data Manipulation Library\n",
    "import pandas  as pd \n",
    "import numpy as np \n"
   ]
  },
  {
   "cell_type": "code",
   "execution_count": 5,
   "id": "b6a29937",
   "metadata": {},
   "outputs": [
    {
     "name": "stdout",
     "output_type": "stream",
     "text": [
      "0    1\n",
      "1    2\n",
      "2    3\n",
      "3    4\n",
      "4    5\n",
      "dtype: int64\n"
     ]
    }
   ],
   "source": [
    "# Define a Series :1D Array \n",
    "\n",
    "a = pd.Series([1,2,3,4,5])\n",
    "print(a)"
   ]
  },
  {
   "cell_type": "code",
   "execution_count": 6,
   "id": "c4f100d2",
   "metadata": {},
   "outputs": [
    {
     "data": {
      "text/plain": [
       "a,    1\n",
       "b     2\n",
       "c     3\n",
       "d     4\n",
       "e     5\n",
       "dtype: int64"
      ]
     },
     "execution_count": 6,
     "metadata": {},
     "output_type": "execute_result"
    }
   ],
   "source": [
    "b = pd.Series([1,2,3,4,5],index= ['a,','b','c','d','e'])\n",
    "b"
   ]
  },
  {
   "cell_type": "code",
   "execution_count": 7,
   "id": "86a7f4e7",
   "metadata": {},
   "outputs": [
    {
     "name": "stdout",
     "output_type": "stream",
     "text": [
      "int64\n",
      "4\n",
      "4\n"
     ]
    }
   ],
   "source": [
    "#Using Concept of Indexing \n",
    "print(a.dtype)\n",
    "print(a[3])\n",
    "print(b['d'])"
   ]
  },
  {
   "cell_type": "code",
   "execution_count": 8,
   "id": "44a74247",
   "metadata": {},
   "outputs": [
    {
     "name": "stdout",
     "output_type": "stream",
     "text": [
      "   India   USA    UK\n",
      "0   2000  4000  6000\n"
     ]
    }
   ],
   "source": [
    "# 2D \n",
    "c = pd.DataFrame({'India':[2000],'USA':[4000],'UK':[6000]})\n",
    "print(c)"
   ]
  },
  {
   "cell_type": "code",
   "execution_count": 9,
   "id": "e8349e66",
   "metadata": {},
   "outputs": [
    {
     "name": "stdout",
     "output_type": "stream",
     "text": [
      "      Name  Age  Marks  CGPA\n",
      "0   Nikhil   10     34     8\n",
      "1   Aniket   11     56     6\n",
      "2    Mihir   12     67     9\n",
      "3    Tanvi   13     68     6\n",
      "4  Hemangi   14     79     8\n"
     ]
    }
   ],
   "source": [
    "#Create Student Database\n",
    "database = {'Name':['Nikhil','Aniket','Mihir','Tanvi','Hemangi'],\n",
    "            'Age':[10,11,12,13,14,],\n",
    "            'Marks':[34,56,67,68,79],\n",
    "            'CGPA':[8,6,9,6,8]}\n",
    "# Create a variable df: which will store dataframe\n",
    "df = pd.DataFrame(database)\n",
    "print(df)"
   ]
  },
  {
   "cell_type": "code",
   "execution_count": 10,
   "id": "79b91dec",
   "metadata": {},
   "outputs": [
    {
     "data": {
      "text/html": [
       "<div>\n",
       "<style scoped>\n",
       "    .dataframe tbody tr th:only-of-type {\n",
       "        vertical-align: middle;\n",
       "    }\n",
       "\n",
       "    .dataframe tbody tr th {\n",
       "        vertical-align: top;\n",
       "    }\n",
       "\n",
       "    .dataframe thead th {\n",
       "        text-align: right;\n",
       "    }\n",
       "</style>\n",
       "<table border=\"1\" class=\"dataframe\">\n",
       "  <thead>\n",
       "    <tr style=\"text-align: right;\">\n",
       "      <th></th>\n",
       "      <th>Name</th>\n",
       "      <th>Age</th>\n",
       "      <th>Marks</th>\n",
       "      <th>CGPA</th>\n",
       "    </tr>\n",
       "  </thead>\n",
       "  <tbody>\n",
       "    <tr>\n",
       "      <th>3</th>\n",
       "      <td>Tanvi</td>\n",
       "      <td>13</td>\n",
       "      <td>68</td>\n",
       "      <td>6</td>\n",
       "    </tr>\n",
       "  </tbody>\n",
       "</table>\n",
       "</div>"
      ],
      "text/plain": [
       "    Name  Age  Marks  CGPA\n",
       "3  Tanvi   13     68     6"
      ]
     },
     "execution_count": 10,
     "metadata": {},
     "output_type": "execute_result"
    }
   ],
   "source": [
    "df[df['Name'] == 'Tanvi']"
   ]
  },
  {
   "cell_type": "code",
   "execution_count": 11,
   "id": "fcd90d1c",
   "metadata": {},
   "outputs": [
    {
     "data": {
      "text/html": [
       "<div>\n",
       "<style scoped>\n",
       "    .dataframe tbody tr th:only-of-type {\n",
       "        vertical-align: middle;\n",
       "    }\n",
       "\n",
       "    .dataframe tbody tr th {\n",
       "        vertical-align: top;\n",
       "    }\n",
       "\n",
       "    .dataframe thead th {\n",
       "        text-align: right;\n",
       "    }\n",
       "</style>\n",
       "<table border=\"1\" class=\"dataframe\">\n",
       "  <thead>\n",
       "    <tr style=\"text-align: right;\">\n",
       "      <th></th>\n",
       "      <th>Name</th>\n",
       "      <th>Age</th>\n",
       "      <th>Marks</th>\n",
       "      <th>CGPA</th>\n",
       "    </tr>\n",
       "  </thead>\n",
       "  <tbody>\n",
       "    <tr>\n",
       "      <th>1</th>\n",
       "      <td>Aniket</td>\n",
       "      <td>11</td>\n",
       "      <td>56</td>\n",
       "      <td>6</td>\n",
       "    </tr>\n",
       "  </tbody>\n",
       "</table>\n",
       "</div>"
      ],
      "text/plain": [
       "     Name  Age  Marks  CGPA\n",
       "1  Aniket   11     56     6"
      ]
     },
     "execution_count": 11,
     "metadata": {},
     "output_type": "execute_result"
    }
   ],
   "source": [
    "df[df['Name'] == 'Aniket']"
   ]
  },
  {
   "cell_type": "code",
   "execution_count": 12,
   "id": "b8e673c1",
   "metadata": {},
   "outputs": [
    {
     "data": {
      "text/plain": [
       "min     34.0\n",
       "max     79.0\n",
       "mean    60.8\n",
       "Name: Marks, dtype: float64"
      ]
     },
     "execution_count": 12,
     "metadata": {},
     "output_type": "execute_result"
    }
   ],
   "source": [
    "# Usingagg() :Aggregate Function \n",
    "df['Marks'].agg(['min','max','mean'])"
   ]
  },
  {
   "cell_type": "code",
   "execution_count": 13,
   "id": "d4e7d6a1",
   "metadata": {},
   "outputs": [
    {
     "data": {
      "text/html": [
       "<div>\n",
       "<style scoped>\n",
       "    .dataframe tbody tr th:only-of-type {\n",
       "        vertical-align: middle;\n",
       "    }\n",
       "\n",
       "    .dataframe tbody tr th {\n",
       "        vertical-align: top;\n",
       "    }\n",
       "\n",
       "    .dataframe thead th {\n",
       "        text-align: right;\n",
       "    }\n",
       "</style>\n",
       "<table border=\"1\" class=\"dataframe\">\n",
       "  <thead>\n",
       "    <tr style=\"text-align: right;\">\n",
       "      <th></th>\n",
       "      <th>Name</th>\n",
       "      <th>Age</th>\n",
       "      <th>Marks</th>\n",
       "      <th>CGPA</th>\n",
       "    </tr>\n",
       "  </thead>\n",
       "  <tbody>\n",
       "    <tr>\n",
       "      <th>2</th>\n",
       "      <td>Mihir</td>\n",
       "      <td>12</td>\n",
       "      <td>67</td>\n",
       "      <td>9</td>\n",
       "    </tr>\n",
       "  </tbody>\n",
       "</table>\n",
       "</div>"
      ],
      "text/plain": [
       "    Name  Age  Marks  CGPA\n",
       "2  Mihir   12     67     9"
      ]
     },
     "execution_count": 13,
     "metadata": {},
     "output_type": "execute_result"
    }
   ],
   "source": [
    "df[df['Marks'] == 67]"
   ]
  },
  {
   "cell_type": "code",
   "execution_count": 14,
   "id": "272d9116",
   "metadata": {},
   "outputs": [
    {
     "data": {
      "text/html": [
       "<div>\n",
       "<style scoped>\n",
       "    .dataframe tbody tr th:only-of-type {\n",
       "        vertical-align: middle;\n",
       "    }\n",
       "\n",
       "    .dataframe tbody tr th {\n",
       "        vertical-align: top;\n",
       "    }\n",
       "\n",
       "    .dataframe thead th {\n",
       "        text-align: right;\n",
       "    }\n",
       "</style>\n",
       "<table border=\"1\" class=\"dataframe\">\n",
       "  <thead>\n",
       "    <tr style=\"text-align: right;\">\n",
       "      <th></th>\n",
       "      <th>Name</th>\n",
       "      <th>Age</th>\n",
       "      <th>Marks</th>\n",
       "      <th>CGPA</th>\n",
       "    </tr>\n",
       "  </thead>\n",
       "  <tbody>\n",
       "    <tr>\n",
       "      <th>1</th>\n",
       "      <td>Aniket</td>\n",
       "      <td>11</td>\n",
       "      <td>56</td>\n",
       "      <td>6</td>\n",
       "    </tr>\n",
       "    <tr>\n",
       "      <th>3</th>\n",
       "      <td>Tanvi</td>\n",
       "      <td>13</td>\n",
       "      <td>68</td>\n",
       "      <td>6</td>\n",
       "    </tr>\n",
       "  </tbody>\n",
       "</table>\n",
       "</div>"
      ],
      "text/plain": [
       "     Name  Age  Marks  CGPA\n",
       "1  Aniket   11     56     6\n",
       "3   Tanvi   13     68     6"
      ]
     },
     "execution_count": 14,
     "metadata": {},
     "output_type": "execute_result"
    }
   ],
   "source": [
    "df[df['CGPA'] == 6]"
   ]
  },
  {
   "cell_type": "code",
   "execution_count": 15,
   "id": "811cdf9b",
   "metadata": {},
   "outputs": [
    {
     "name": "stdout",
     "output_type": "stream",
     "text": [
      "<class 'pandas.core.frame.DataFrame'>\n",
      "RangeIndex: 5 entries, 0 to 4\n",
      "Data columns (total 4 columns):\n",
      " #   Column  Non-Null Count  Dtype \n",
      "---  ------  --------------  ----- \n",
      " 0   Name    5 non-null      object\n",
      " 1   Age     5 non-null      int64 \n",
      " 2   Marks   5 non-null      int64 \n",
      " 3   CGPA    5 non-null      int64 \n",
      "dtypes: int64(3), object(1)\n",
      "memory usage: 292.0+ bytes\n"
     ]
    }
   ],
   "source": [
    "# Checking DataFrame Information\n",
    "df.info()"
   ]
  },
  {
   "cell_type": "code",
   "execution_count": 16,
   "id": "09abe2d3",
   "metadata": {},
   "outputs": [
    {
     "data": {
      "text/plain": [
       "Name     0\n",
       "Age      0\n",
       "Marks    0\n",
       "CGPA     0\n",
       "dtype: int64"
      ]
     },
     "execution_count": 16,
     "metadata": {},
     "output_type": "execute_result"
    }
   ],
   "source": [
    "# This code will check if any missing value in dataset\n",
    "df.isnull().sum()"
   ]
  },
  {
   "cell_type": "code",
   "execution_count": 17,
   "id": "7ff76d47",
   "metadata": {},
   "outputs": [
    {
     "name": "stdout",
     "output_type": "stream",
     "text": [
      "304\n",
      "60.8\n",
      "79\n",
      "34\n",
      "5\n",
      "[34 56 67 68 79]\n",
      "Name\n",
      "Nikhil     1\n",
      "Aniket     1\n",
      "Mihir      1\n",
      "Tanvi      1\n",
      "Hemangi    1\n",
      "Name: count, dtype: int64\n",
      "Marks\n",
      "34    1\n",
      "56    1\n",
      "67    1\n",
      "68    1\n",
      "79    1\n",
      "Name: count, dtype: int64\n"
     ]
    }
   ],
   "source": [
    "print(df['Marks'].sum())\n",
    "print(df['Marks'].mean())\n",
    "print(df['Marks'].max())\n",
    "print(df['Marks'].min())\n",
    "print(df['Marks'].nunique())\n",
    "print(df['Marks'].unique())\n",
    "print(df['Name'].value_counts())\n",
    "print(df['Marks'].value_counts())"
   ]
  },
  {
   "cell_type": "code",
   "execution_count": 18,
   "id": "e887b3aa",
   "metadata": {},
   "outputs": [
    {
     "name": "stdout",
     "output_type": "stream",
     "text": [
      "      Name  Salary  No of Exp    Domain  Age  Gender\n",
      "0   Nikhil    1000          1      Tech   21    Male\n",
      "1   Aniket    2000          2       R&D   22  Female\n",
      "2    Parag    3000          3  Non tech   23  Female\n",
      "3    Mihir    4000          4      Tech   24  Female\n",
      "4     Ajay    5000          5       R&D   25  Female\n",
      "5    Tanvi    6000          6        HR   26    Male\n",
      "6    Disha    7000          7  Non Tech   27    Male\n",
      "7  Hemangi    8000          8        HR   28    Male\n"
     ]
    }
   ],
   "source": [
    "database = {'Name':['Nikhil','Aniket','Parag','Mihir','Ajay','Tanvi','Disha','Hemangi'],\n",
    "            'Salary':[1000,2000,3000,4000,5000,6000,7000,8000],\n",
    "            'No of Exp':[1,2,3,4,5,6,7,8],\n",
    "            'Domain':['Tech','R&D','Non tech','Tech','R&D','HR','Non Tech','HR'],\n",
    "            'Age':[21,22,23,24,25,26,27,28],\n",
    "            'Gender':['Male','Female','Female','Female','Female','Male','Male','Male']}\n",
    "\n",
    "company = pd.DataFrame(database)\n",
    "print(company)"
   ]
  },
  {
   "cell_type": "code",
   "execution_count": 19,
   "id": "557f9ae0",
   "metadata": {},
   "outputs": [
    {
     "data": {
      "text/plain": [
       "<bound method DataFrame.info of       Name  Salary  No of Exp    Domain  Age  Gender\n",
       "0   Nikhil    1000          1      Tech   21    Male\n",
       "1   Aniket    2000          2       R&D   22  Female\n",
       "2    Parag    3000          3  Non tech   23  Female\n",
       "3    Mihir    4000          4      Tech   24  Female\n",
       "4     Ajay    5000          5       R&D   25  Female\n",
       "5    Tanvi    6000          6        HR   26    Male\n",
       "6    Disha    7000          7  Non Tech   27    Male\n",
       "7  Hemangi    8000          8        HR   28    Male>"
      ]
     },
     "execution_count": 19,
     "metadata": {},
     "output_type": "execute_result"
    }
   ],
   "source": [
    "#Checking the dataset information\n",
    "company.info"
   ]
  },
  {
   "cell_type": "code",
   "execution_count": 20,
   "id": "ddc325ad",
   "metadata": {},
   "outputs": [
    {
     "name": "stdout",
     "output_type": "stream",
     "text": [
      "8\n"
     ]
    }
   ],
   "source": [
    "# Evaluation maximum number of Exp from the dataset\n",
    "\n",
    "print(company['No of Exp'].max())"
   ]
  },
  {
   "cell_type": "code",
   "execution_count": 21,
   "id": "07a6e3ed",
   "metadata": {},
   "outputs": [
    {
     "name": "stdout",
     "output_type": "stream",
     "text": [
      "1\n"
     ]
    }
   ],
   "source": [
    "print(company['No of Exp'].min())"
   ]
  },
  {
   "cell_type": "code",
   "execution_count": 22,
   "id": "bef69214",
   "metadata": {},
   "outputs": [
    {
     "name": "stdout",
     "output_type": "stream",
     "text": [
      "4.5\n"
     ]
    }
   ],
   "source": [
    "print(company['No of Exp'].mean())"
   ]
  },
  {
   "cell_type": "code",
   "execution_count": 23,
   "id": "dd24fb9d",
   "metadata": {},
   "outputs": [
    {
     "data": {
      "text/html": [
       "<div>\n",
       "<style scoped>\n",
       "    .dataframe tbody tr th:only-of-type {\n",
       "        vertical-align: middle;\n",
       "    }\n",
       "\n",
       "    .dataframe tbody tr th {\n",
       "        vertical-align: top;\n",
       "    }\n",
       "\n",
       "    .dataframe thead th {\n",
       "        text-align: right;\n",
       "    }\n",
       "</style>\n",
       "<table border=\"1\" class=\"dataframe\">\n",
       "  <thead>\n",
       "    <tr style=\"text-align: right;\">\n",
       "      <th></th>\n",
       "      <th>Name</th>\n",
       "      <th>Salary</th>\n",
       "      <th>No of Exp</th>\n",
       "      <th>Domain</th>\n",
       "      <th>Age</th>\n",
       "      <th>Gender</th>\n",
       "    </tr>\n",
       "  </thead>\n",
       "  <tbody>\n",
       "    <tr>\n",
       "      <th>1</th>\n",
       "      <td>Aniket</td>\n",
       "      <td>2000</td>\n",
       "      <td>2</td>\n",
       "      <td>R&amp;D</td>\n",
       "      <td>22</td>\n",
       "      <td>Female</td>\n",
       "    </tr>\n",
       "    <tr>\n",
       "      <th>2</th>\n",
       "      <td>Parag</td>\n",
       "      <td>3000</td>\n",
       "      <td>3</td>\n",
       "      <td>Non tech</td>\n",
       "      <td>23</td>\n",
       "      <td>Female</td>\n",
       "    </tr>\n",
       "    <tr>\n",
       "      <th>3</th>\n",
       "      <td>Mihir</td>\n",
       "      <td>4000</td>\n",
       "      <td>4</td>\n",
       "      <td>Tech</td>\n",
       "      <td>24</td>\n",
       "      <td>Female</td>\n",
       "    </tr>\n",
       "    <tr>\n",
       "      <th>4</th>\n",
       "      <td>Ajay</td>\n",
       "      <td>5000</td>\n",
       "      <td>5</td>\n",
       "      <td>R&amp;D</td>\n",
       "      <td>25</td>\n",
       "      <td>Female</td>\n",
       "    </tr>\n",
       "  </tbody>\n",
       "</table>\n",
       "</div>"
      ],
      "text/plain": [
       "     Name  Salary  No of Exp    Domain  Age  Gender\n",
       "1  Aniket    2000          2       R&D   22  Female\n",
       "2   Parag    3000          3  Non tech   23  Female\n",
       "3   Mihir    4000          4      Tech   24  Female\n",
       "4    Ajay    5000          5       R&D   25  Female"
      ]
     },
     "execution_count": 23,
     "metadata": {},
     "output_type": "execute_result"
    }
   ],
   "source": [
    "company[company['Gender'] == 'Female']"
   ]
  },
  {
   "cell_type": "code",
   "execution_count": 24,
   "id": "0493f9e2",
   "metadata": {},
   "outputs": [],
   "source": [
    "F = company[company['Gender'] == 'Female']"
   ]
  },
  {
   "cell_type": "code",
   "execution_count": 25,
   "id": "14e02182",
   "metadata": {},
   "outputs": [
    {
     "data": {
      "text/plain": [
       "5000"
      ]
     },
     "execution_count": 25,
     "metadata": {},
     "output_type": "execute_result"
    }
   ],
   "source": [
    "F['Salary'].max()"
   ]
  },
  {
   "cell_type": "code",
   "execution_count": 26,
   "id": "b2e4d36f",
   "metadata": {},
   "outputs": [
    {
     "data": {
      "text/html": [
       "<div>\n",
       "<style scoped>\n",
       "    .dataframe tbody tr th:only-of-type {\n",
       "        vertical-align: middle;\n",
       "    }\n",
       "\n",
       "    .dataframe tbody tr th {\n",
       "        vertical-align: top;\n",
       "    }\n",
       "\n",
       "    .dataframe thead th {\n",
       "        text-align: right;\n",
       "    }\n",
       "</style>\n",
       "<table border=\"1\" class=\"dataframe\">\n",
       "  <thead>\n",
       "    <tr style=\"text-align: right;\">\n",
       "      <th></th>\n",
       "      <th>Name</th>\n",
       "      <th>Salary</th>\n",
       "      <th>No of Exp</th>\n",
       "      <th>Domain</th>\n",
       "      <th>Age</th>\n",
       "      <th>Gender</th>\n",
       "    </tr>\n",
       "  </thead>\n",
       "  <tbody>\n",
       "    <tr>\n",
       "      <th>4</th>\n",
       "      <td>Ajay</td>\n",
       "      <td>5000</td>\n",
       "      <td>5</td>\n",
       "      <td>R&amp;D</td>\n",
       "      <td>25</td>\n",
       "      <td>Female</td>\n",
       "    </tr>\n",
       "  </tbody>\n",
       "</table>\n",
       "</div>"
      ],
      "text/plain": [
       "   Name  Salary  No of Exp Domain  Age  Gender\n",
       "4  Ajay    5000          5    R&D   25  Female"
      ]
     },
     "execution_count": 26,
     "metadata": {},
     "output_type": "execute_result"
    }
   ],
   "source": [
    "F[F['Salary'] == 5000]"
   ]
  },
  {
   "cell_type": "code",
   "execution_count": 27,
   "id": "ebcc0807",
   "metadata": {},
   "outputs": [
    {
     "data": {
      "text/plain": [
       "Gender\n",
       "Male      4\n",
       "Female    4\n",
       "Name: count, dtype: int64"
      ]
     },
     "execution_count": 27,
     "metadata": {},
     "output_type": "execute_result"
    }
   ],
   "source": [
    "company['Gender'].value_counts()"
   ]
  },
  {
   "cell_type": "code",
   "execution_count": 30,
   "id": "fcef0d2d",
   "metadata": {},
   "outputs": [],
   "source": [
    "\n",
    "# Import Data Manipulation Library\n",
    "\n",
    "import pandas as pd\n",
    "import numpy as np\n",
    "\n",
    "# Import Data Visualization Library\n",
    "\n",
    "import seaborn as sns\n",
    "import matplotlib.pyplot as plt"
   ]
  },
  {
   "cell_type": "code",
   "execution_count": 31,
   "id": "78d58b82",
   "metadata": {},
   "outputs": [
    {
     "data": {
      "image/png": "[encoded data removed]",
      "text/plain": [
       "<Figure size 640x480 with 1 Axes>"
      ]
     },
     "metadata": {},
     "output_type": "display_data"
    }
   ],
   "source": [
    "# Plotting Bar Plot using Matplotlib:\n",
    "\n",
    "plt.bar(df['Name'],df['CGPA'],color='g')\n",
    "plt.title('CGPA Vs Name')\n",
    "plt.ylim(0,15)\n",
    "plt.show()"
   ]
  },
  {
   "cell_type": "code",
   "execution_count": 32,
   "id": "90078136",
   "metadata": {},
   "outputs": [
    {
     "name": "stderr",
     "output_type": "stream",
     "text": [
      "C:\\Users\\HP\\AppData\\Local\\Temp\\ipykernel_12456\\331697364.py:5: FutureWarning: \n",
      "\n",
      "Passing `palette` without assigning `hue` is deprecated and will be removed in v0.14.0. Assign the `x` variable to `hue` and set `legend=False` for the same effect.\n",
      "\n",
      "  sns.barplot(x=df['Name'], y=df['CGPA'], palette=colormaps)\n"
     ]
    },
    {
     "data": {
      "image/png": "[encoded data removed]",
      "text/plain": [
       "<Figure size 640x480 with 1 Axes>"
      ]
     },
     "metadata": {},
     "output_type": "display_data"
    }
   ],
   "source": [
    "import seaborn as sns\n",
    "import matplotlib.pyplot as plt\n",
    "\n",
    "colormaps = ['red', 'green', 'magenta', 'black', 'cyan']  # corrected variable name\n",
    "sns.barplot(x=df['Name'], y=df['CGPA'], palette=colormaps)\n",
    "plt.xlabel('Name')\n",
    "plt.ylabel('CGPA')\n",
    "plt.title('CGPA Vs Name')\n",
    "plt.ylim(0, 15)\n",
    "plt.show()"
   ]
  },
  {
   "cell_type": "code",
   "execution_count": 33,
   "id": "a06a9119",
   "metadata": {},
   "outputs": [
    {
     "data": {
      "image/png": "[encoded data removed]",
      "text/plain": [
       "<Figure size 640x480 with 1 Axes>"
      ]
     },
     "metadata": {},
     "output_type": "display_data"
    }
   ],
   "source": [
    "sns.scatterplot(x=df['Age'], y=df['CGPA'],hue=df['Marks'])\n",
    "sns.regplot(x=df['Age'], y=df['CGPA'])\n",
    "plt.show()"
   ]
  }
 ],
 "metadata": {
  "kernelspec": {
   "display_name": "base",
   "language": "python",
   "name": "python3"
  },
  "language_info": {
   "codemirror_mode": {
    "name": "ipython",
    "version": 3
   },
   "file_extension": ".py",
   "mimetype": "text/x-python",
   "name": "python",
   "nbconvert_exporter": "python",
   "pygments_lexer": "ipython3",
   "version": "3.12.7"
  }
 },
 "nbformat": 4,
 "nbformat_minor": 5
}
