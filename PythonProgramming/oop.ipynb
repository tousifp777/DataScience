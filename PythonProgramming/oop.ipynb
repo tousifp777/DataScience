{
 "cells": [
  {
   "cell_type": "markdown",
   "id": "372d1464",
   "metadata": {},
   "source": [
    "## OBJECT ORIENTED PROGRAMING\n"
   ]
  },
  {
   "cell_type": "code",
   "execution_count": 7,
   "id": "458b856b",
   "metadata": {},
   "outputs": [
    {
     "name": "stdout",
     "output_type": "stream",
     "text": [
      "TeslaModel S is starting...\n",
      "TeslaModel S is charging with 10000 KWh batttery.\n",
      "TeslaModel S is stopping...\n"
     ]
    }
   ],
   "source": [
    "# parent class\n",
    "\n",
    "class Car:\n",
    "    def __init__(self,brand,model):\n",
    "        self.brand = brand\n",
    "        self.model = model\n",
    "\n",
    "    def start(self):\n",
    "        print(f\"{self.brand}{self.model} is starting...\")\n",
    "\n",
    "    def stop(self):\n",
    "        print(f\"{self.brand}{self.model} is stopping...\")\n",
    "\n",
    "# child class\n",
    " \n",
    "class ElectricCar (Car):\n",
    "    def __init__(self,brand,model,batttery_capacity):\n",
    "        super().__init__(brand,model) #Inherti brand and model  \n",
    "        self.batttery_capacity = batttery_capacity\n",
    "\n",
    "    def charge(self):\n",
    "        print(f\"{self.brand}{self.model} is charging with {self.batttery_capacity} KWh batttery.\")\n",
    "\n",
    "#create  an object of ElectricCar\n",
    "\n",
    "tesla = ElectricCar(\"Tesla\",\"Model S\", 10000)\n",
    "tesla.start()\n",
    "tesla.charge()\n",
    "tesla.stop()"
   ]
  },
  {
   "cell_type": "code",
   "execution_count": null,
   "id": "ce2a7a74",
   "metadata": {},
   "outputs": [
    {
     "name": "stdout",
     "output_type": "stream",
     "text": [
      "TeslaModel S is starting...\n",
      "TeslaModel S is charging with 10000 KWh batttery.\n",
      "TeslaModel S is stopping...\n"
     ]
    }
   ],
   "source": [
    "class Institute:\n",
    "    def __init__(fname,lname,age ,sex,mobile):\n",
    "        self.fname = fname\n",
    "        self.lname = lname\n",
    "        self.age = age\n",
    "        self.sex = sex\n",
    "        self.mobile = mobile\n",
    "        \n",
    "    def start(self):\n",
    "        print(f\"{self.brand}{self.model} is starting...\")\n",
    "\n",
    "    def stop(self):\n",
    "        print(f\"{self.brand}{self.model} is stopping...\")\n",
    "\n",
    "# child class\n",
    " \n",
    "class ElectricCar (Car):\n",
    "    def __init__(self,brand,model,batttery_capacity):\n",
    "        super().__init__(brand,model) #Inherti brand and model  \n",
    "        self.batttery_capacity = batttery_capacity\n",
    "\n",
    "    def charge(self):\n",
    "        print(f\"{self.brand}{self.model} is charging with {self.batttery_capacity} KWh batttery.\")\n",
    "\n",
    "#create  an object of ElectricCar\n",
    "\n",
    "tesla = ElectricCar(\"Tesla\",\"Model S\", 10000)\n",
    "tesla.start()\n",
    "tesla.charge()\n",
    "tesla.stop()"
   ]
  },
  {
   "cell_type": "code",
   "execution_count": 5,
   "id": "86b2587f",
   "metadata": {},
   "outputs": [
    {
     "name": "stdout",
     "output_type": "stream",
     "text": [
      " Name: Rohit Sharma\n",
      " Age: 38\n",
      " Sex: Male\n",
      "Mobile number: 9876543210\n",
      " Name: Virat Kohli\n",
      " Age: 40\n",
      " Sex: Male\n",
      "Mobile number: 9988776655\n"
     ]
    }
   ],
   "source": [
    "class Institution:\n",
    "    def __init__(self,first_name,last_name,age,sex,mobile_number):\n",
    "        self.first_name = first_name\n",
    "        self.last_name = last_name\n",
    "        self.age = age\n",
    "        self.sex = sex\n",
    "        self.mobile_number = mobile_number\n",
    "\n",
    "    def details(self):\n",
    "        print(f\" Name: {self.first_name} {self.last_name}\")\n",
    "        print(f\" Age: {self.age}\")\n",
    "        print(f\" Sex: {self.sex}\")\n",
    "        print(f\"Mobile number: {self.mobile_number}\")\n",
    "\n",
    "class students(Institution):\n",
    "    def __init__(self, first_name, last_name, age, sex, mobile_number,department):\n",
    "        super().__init__(first_name, last_name, age, sex, mobile_number)\n",
    "        self.department = department\n",
    "\n",
    "class faculty(Institution):\n",
    "    def __init__(self, first_name, last_name, age, sex, mobile_number,experience):\n",
    "        super().__init__(first_name, last_name, age, sex, mobile_number)\n",
    "        self.experience = experience\n",
    "\n",
    "X = students('Rohit','Sharma',38,'Male', 9876543210,'Sports')\n",
    "Y = faculty('Virat','Kohli',40,'Male',9988776655,15)\n",
    "X.details()\n",
    "Y.details()"
   ]
  },
  {
   "cell_type": "code",
   "execution_count": null,
   "id": "8be12927-986e-4301-9852-9450bf24a7e8",
   "metadata": {},
   "outputs": [],
   "source": [
    "class parent:\n",
    "    def __init__(self,var1,var2)\n",
    "        self.var1 = var1\n",
    "        self.var2 = var2"
   ]
  },
  {
   "cell_type": "code",
   "execution_count": 16,
   "id": "ce531e94-163b-4707-8fec-ee05f26474cd",
   "metadata": {},
   "outputs": [],
   "source": [
    "class Car:\n",
    "    def start_engine(self):\n",
    "        print(\"Starting engine\")\n",
    "\n",
    "class ElectricCar(Car):\n",
    "    def start_engine(self):\n",
    "        print(\"Starting Silent Electric Engine\")\n",
    "\n",
    "class PetrolCar(Car):\n",
    "    def start_engine(self):\n",
    "        print(\"Starting petrol engine with sound\")"
   ]
  },
  {
   "cell_type": "code",
   "execution_count": 17,
   "id": "750ef2e1-55bc-44e4-9f88-2c8e6c77d87e",
   "metadata": {},
   "outputs": [],
   "source": [
    "object1 = Car() #Defined for parent class\n",
    "object2 = ElectricCar() #Defined for child class\n",
    "object3 = PetrolCar() #Defined for child class"
   ]
  },
  {
   "cell_type": "code",
   "execution_count": 19,
   "id": "4596b095-e70c-45a5-9bb5-e008866dfa55",
   "metadata": {},
   "outputs": [
    {
     "name": "stdout",
     "output_type": "stream",
     "text": [
      "Starting engine\n"
     ]
    }
   ],
   "source": [
    "object1.start_engine()"
   ]
  },
  {
   "cell_type": "code",
   "execution_count": 24,
   "id": "59fc40e0-ee37-4fc1-bc6a-3d2e3e8dfa56",
   "metadata": {},
   "outputs": [
    {
     "name": "stdout",
     "output_type": "stream",
     "text": [
      "\n",
      "Account Holder: Ravi\n",
      "Balance: ₹50000\n",
      "Current Account Interest Rate: 0%\n",
      "\n",
      "Account Holder: Anita\n",
      "Balance: ₹150000\n",
      "Savings Account Interest Rate: 3.5%\n",
      "\n",
      "Account Holder: Mahesh\n",
      "Balance: ₹30000\n",
      "Pension Account Interest Rate: 5%\n",
      "\n",
      "Account Holder: Rajesh\n",
      "Balance: ₹1000000\n",
      "NRI Account Interest Rate: 4.5%\n"
     ]
    }
   ],
   "source": [
    "# Base class\n",
    "class Bank:\n",
    "    def __init__(self, account_holder, balance):\n",
    "        self.account_holder = account_holder\n",
    "        self.balance = balance\n",
    "\n",
    "    def account_details(self):\n",
    "        print(f\"\\nAccount Holder: {self.account_holder}\")\n",
    "        print(f\"Balance: ₹{self.balance}\")\n",
    "\n",
    "    def rate_of_interest(self):\n",
    "        print(\"General Bank Account: No specific interest rate.\")\n",
    "\n",
    "# Child classes\n",
    "class CurrentAccount(Bank):\n",
    "    def rate_of_interest(self):\n",
    "        print(\"Current Account Interest Rate: 0%\")\n",
    "\n",
    "class SavingsAccount(Bank):\n",
    "    def rate_of_interest(self):\n",
    "        print(\"Savings Account Interest Rate: 3.5%\")\n",
    "\n",
    "class PensionAccount(Bank):\n",
    "    def rate_of_interest(self):\n",
    "        print(\"Pension Account Interest Rate: 5%\")\n",
    "\n",
    "class NRIAccount(Bank):\n",
    "    def rate_of_interest(self):\n",
    "        print(\"NRI Account Interest Rate: 4.5%\")\n",
    "\n",
    "# Function to show account info (polymorphism)\n",
    "def show_account_info(account):\n",
    "    account.account_details()\n",
    "    account.rate_of_interest()\n",
    "\n",
    "# Create account objects\n",
    "accounts = [\n",
    "    CurrentAccount(\"Ravi\", 50000),\n",
    "    SavingsAccount(\"Anita\", 150000),\n",
    "    PensionAccount(\"Mahesh\", 30000),\n",
    "    NRIAccount(\"Rajesh\", 1000000)\n",
    "]\n",
    "\n",
    "# Show details for each\n",
    "for acc in accounts:\n",
    "    show_account_info(acc)\n"
   ]
  },
  {
   "cell_type": "code",
   "execution_count": null,
   "id": "651c9d90-7237-4903-bbc8-c8ba0bc2ce53",
   "metadata": {},
   "outputs": [],
   "source": []
  }
 ],
 "metadata": {
  "kernelspec": {
   "display_name": "base",
   "language": "python",
   "name": "python3"
  },
  "language_info": {
   "codemirror_mode": {
    "name": "ipython",
    "version": 3
   },
   "file_extension": ".py",
   "mimetype": "text/x-python",
   "name": "python",
   "nbconvert_exporter": "python",
   "pygments_lexer": "ipython3",
   "version": "3.12.7"
  }
 },
 "nbformat": 4,
 "nbformat_minor": 5
}
