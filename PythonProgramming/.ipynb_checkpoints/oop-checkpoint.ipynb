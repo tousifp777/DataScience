{
 "cells": [
  {
   "cell_type": "markdown",
   "id": "372d1464",
   "metadata": {},
   "source": [
    "## OBJECT ORIENTED PROGRAMING\n"
   ]
  },
  {
   "cell_type": "code",
   "execution_count": 7,
   "id": "458b856b",
   "metadata": {},
   "outputs": [
    {
     "name": "stdout",
     "output_type": "stream",
     "text": [
      "TeslaModel S is starting...\n",
      "TeslaModel S is charging with 10000 KWh batttery.\n",
      "TeslaModel S is stopping...\n"
     ]
    }
   ],
   "source": [
    "# parent class\n",
    "\n",
    "class Car:\n",
    "    def __init__(self,brand,model):\n",
    "        self.brand = brand\n",
    "        self.model = model\n",
    "\n",
    "    def start(self):\n",
    "        print(f\"{self.brand}{self.model} is starting...\")\n",
    "\n",
    "    def stop(self):\n",
    "        print(f\"{self.brand}{self.model} is stopping...\")\n",
    "\n",
    "# child class\n",
    " \n",
    "class ElectricCar (Car):\n",
    "    def __init__(self,brand,model,batttery_capacity):\n",
    "        super().__init__(brand,model) #Inherti brand and model  \n",
    "        self.batttery_capacity = batttery_capacity\n",
    "\n",
    "    def charge(self):\n",
    "        print(f\"{self.brand}{self.model} is charging with {self.batttery_capacity} KWh batttery.\")\n",
    "\n",
    "#create  an object of ElectricCar\n",
    "\n",
    "tesla = ElectricCar(\"Tesla\",\"Model S\", 10000)\n",
    "tesla.start()\n",
    "tesla.charge()\n",
    "tesla.stop()"
   ]
  },
  {
   "cell_type": "code",
   "execution_count": null,
   "id": "ce2a7a74",
   "metadata": {},
   "outputs": [
    {
     "name": "stdout",
     "output_type": "stream",
     "text": [
      "TeslaModel S is starting...\n",
      "TeslaModel S is charging with 10000 KWh batttery.\n",
      "TeslaModel S is stopping...\n"
     ]
    }
   ],
   "source": [
    "class Institute:\n",
    "    def __init__(fname,lname,age ,sex,mobile):\n",
    "        self.fname = fname\n",
    "        self.lname = lname\n",
    "        self.age = age\n",
    "        self.sex = sex\n",
    "        self.mobile = mobile\n",
    "        \n",
    "    def start(self):\n",
    "        print(f\"{self.brand}{self.model} is starting...\")\n",
    "\n",
    "    def stop(self):\n",
    "        print(f\"{self.brand}{self.model} is stopping...\")\n",
    "\n",
    "# child class\n",
    " \n",
    "class ElectricCar (Car):\n",
    "    def __init__(self,brand,model,batttery_capacity):\n",
    "        super().__init__(brand,model) #Inherti brand and model  \n",
    "        self.batttery_capacity = batttery_capacity\n",
    "\n",
    "    def charge(self):\n",
    "        print(f\"{self.brand}{self.model} is charging with {self.batttery_capacity} KWh batttery.\")\n",
    "\n",
    "#create  an object of ElectricCar\n",
    "\n",
    "tesla = ElectricCar(\"Tesla\",\"Model S\", 10000)\n",
    "tesla.start()\n",
    "tesla.charge()\n",
    "tesla.stop()"
   ]
  },
  {
   "cell_type": "code",
   "execution_count": null,
   "id": "86b2587f",
   "metadata": {},
   "outputs": [],
   "source": []
  }
 ],
 "metadata": {
  "kernelspec": {
   "display_name": "base",
   "language": "python",
   "name": "python3"
  },
  "language_info": {
   "codemirror_mode": {
    "name": "ipython",
    "version": 3
   },
   "file_extension": ".py",
   "mimetype": "text/x-python",
   "name": "python",
   "nbconvert_exporter": "python",
   "pygments_lexer": "ipython3",
   "version": "3.12.7"
  }
 },
 "nbformat": 4,
 "nbformat_minor": 5
}
