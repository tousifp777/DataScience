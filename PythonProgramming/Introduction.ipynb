{
 "cells": [
  {
   "cell_type": "markdown",
   "id": "488ba941",
   "metadata": {},
   "source": [
    "### Introduction to Python Programming\n",
    "\n"
   ]
  },
  {
   "cell_type": "code",
   "execution_count": 2,
   "id": "2a5e2a71",
   "metadata": {},
   "outputs": [
    {
     "data": {
      "text/plain": [
       "'\\nData types  in Python are as follows:\\n\\n1. Integer\\n2. Float\\n3. String\\n\\n'"
      ]
     },
     "execution_count": 2,
     "metadata": {},
     "output_type": "execute_result"
    }
   ],
   "source": [
    "# Variable  Defination\n",
    "\n",
    "number =  1000  #Defining Integer Variable\n",
    "decimal = 10.33 #Defining Float Variable\n",
    "string = \"Hello World\" # Defining String\n",
    "\n",
    "'''\n",
    "Data types  in Python are as follows:\n",
    "\n",
    "1. Integer\n",
    "2. Float\n",
    "3. String\n",
    "\n",
    "'''\n"
   ]
  },
  {
   "cell_type": "code",
   "execution_count": 3,
   "id": "ef0ac811",
   "metadata": {},
   "outputs": [
    {
     "name": "stdout",
     "output_type": "stream",
     "text": [
      "<class 'int'>\n",
      "<class 'float'>\n",
      "<class 'str'>\n"
     ]
    }
   ],
   "source": [
    "# Checking Datatype Variable\n",
    "\n",
    "print(type(number))\n",
    "print(type(decimal))\n",
    "print(type(string))\n"
   ]
  },
  {
   "cell_type": "code",
   "execution_count": 4,
   "id": "b767b695-096f-4231-9b9c-90c77453a116",
   "metadata": {},
   "outputs": [
    {
     "name": "stdout",
     "output_type": "stream",
     "text": [
      "25\n"
     ]
    }
   ],
   "source": [
    "# Type Casting of Data type\n",
    "num = 25.55 #Datatype : Float\n",
    "\n",
    "print(int(num)) #Float is typecasted into int\n"
   ]
  },
  {
   "cell_type": "code",
   "execution_count": 5,
   "id": "cfdee25e-7639-42de-85da-dbb7cacc6655",
   "metadata": {},
   "outputs": [
    {
     "name": "stdout",
     "output_type": "stream",
     "text": [
      "Your value is 55\n",
      "<class 'str'>\n",
      "55\n",
      "55.0\n"
     ]
    }
   ],
   "source": [
    "#Using input function\n",
    "\n",
    "num = input(\"enter your value:\")\n",
    "print(\"Your value is\",(num))\n",
    "print(type(num))\n",
    "\n",
    "\n",
    "#Doing type casting\n",
    "\n",
    "print(int(num))\n",
    "print(float(num))\n"
   ]
  },
  {
   "cell_type": "code",
   "execution_count": 6,
   "id": "50699da9",
   "metadata": {},
   "outputs": [
    {
     "name": "stdout",
     "output_type": "stream",
     "text": [
      "your name is tousif\n"
     ]
    }
   ],
   "source": [
    "str = input (\"enter your name\")\n",
    "print (\"your name is\",str)"
   ]
  },
  {
   "cell_type": "code",
   "execution_count": 7,
   "id": "2af4c0ac",
   "metadata": {},
   "outputs": [
    {
     "name": "stdout",
     "output_type": "stream",
     "text": [
      "the addition of two number as 10.0 and 55.0 is 65.0\n"
     ]
    }
   ],
   "source": [
    "# perform Mathmatical Operation \n",
    "num1 = float(input('Enter the first Number'))\n",
    "num2 = float(input('Enter the second Number'))\n",
    "\n",
    "num3 = num1 + num2\n",
    "\n",
    "#using fstring method \n",
    "print(f'the addition of two number as {num1} and {num2} is',num3)"
   ]
  },
  {
   "cell_type": "code",
   "execution_count": 8,
   "id": "f49f1c5a",
   "metadata": {},
   "outputs": [
    {
     "name": "stdout",
     "output_type": "stream",
     "text": [
      "w\n",
      "w\n"
     ]
    }
   ],
   "source": [
    "#Strings Indexing and Slicing\n",
    "\n",
    "string = input('Enter the string')\n",
    "\n",
    "'''\n",
    "H e l l o   W o r l d\n",
    "0 1 2 3 4 5 6 7 8 9 10    :L--->R\n",
    "...............-3-2-1     :R-->L\n",
    "'''\n",
    "print(string[6])   #Indexing\n",
    "print(string[-5])  #Indexing\n"
   ]
  },
  {
   "cell_type": "code",
   "execution_count": 9,
   "id": "418292a7",
   "metadata": {},
   "outputs": [
    {
     "name": "stdout",
     "output_type": "stream",
     "text": [
      "ell\n",
      "hello worl\n",
      "\n",
      "o worl\n"
     ]
    }
   ],
   "source": [
    "# Concept of Slicing\n",
    "string = input('Enter the string')\n",
    "'''\n",
    "string[start:stop]\n",
    "Example:\n",
    "string = Hello World\n",
    "string = Hello World\n",
    "string[1:4]  ---> o/p :ell\n",
    "'''\n",
    "print(string[1:4])\n",
    "print(string[:-1])\n",
    "print(string[2:2])\n",
    "print(string[4:-1])"
   ]
  },
  {
   "cell_type": "code",
   "execution_count": 10,
   "id": "3d56938e",
   "metadata": {},
   "outputs": [
    {
     "name": "stdout",
     "output_type": "stream",
     "text": [
      "el ol\n"
     ]
    }
   ],
   "source": [
    "# Concept of Slicing\n",
    "string = input('Enter the string')\n",
    "'''\n",
    "string[start:stop:step]\n",
    "Example:\n",
    "string = Hello World\n",
    "string = Hello World\n",
    "string[1:4]  ---> o/p :ell\n",
    "'''\n",
    "print(string[1::2])"
   ]
  },
  {
   "cell_type": "code",
   "execution_count": 11,
   "id": "f2d5c039",
   "metadata": {},
   "outputs": [
    {
     "name": "stdout",
     "output_type": "stream",
     "text": [
      "Hlowloet h ol fpto rgamn\n",
      "o welcome to the world of python programmi\n",
      "gnimmargorp nohtyp fo dlrow eht ot emoclew olleH\n"
     ]
    }
   ],
   "source": [
    "#concept of Indexing and Slicing Together\n",
    "str = 'Hello welcome to the world of python programming'\n",
    "print(str[::2])\n",
    "print(str[4:-2:])\n",
    "print(str[::-1])"
   ]
  }
 ],
 "metadata": {
  "kernelspec": {
   "display_name": "base",
   "language": "python",
   "name": "python3"
  },
  "language_info": {
   "codemirror_mode": {
    "name": "ipython",
    "version": 3
   },
   "file_extension": ".py",
   "mimetype": "text/x-python",
   "name": "python",
   "nbconvert_exporter": "python",
   "pygments_lexer": "ipython3",
   "version": "3.12.7"
  }
 },
 "nbformat": 4,
 "nbformat_minor": 5
}
