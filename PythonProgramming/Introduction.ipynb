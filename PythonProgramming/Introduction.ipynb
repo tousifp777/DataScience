{
 "cells": [
  {
   "cell_type": "markdown",
   "id": "488ba941",
   "metadata": {},
   "source": [
    "### Introduction to Python Programming\n",
    "\n"
   ]
  },
  {
   "cell_type": "code",
   "execution_count": 36,
   "id": "2a5e2a71",
   "metadata": {},
   "outputs": [
    {
     "data": {
      "text/plain": [
       "'\\nData types  in Python are as follows:\\n\\n1. Integer\\n2. Float\\n3. String\\n\\n'"
      ]
     },
     "execution_count": 36,
     "metadata": {},
     "output_type": "execute_result"
    }
   ],
   "source": [
    "# Variable  Defination\n",
    "\n",
    "number =  1000  #Defining Integer Variable\n",
    "decimal = 10.33 #Defining Float Variable\n",
    "string = \"Hello World\" # Defining String\n",
    "\n",
    "'''\n",
    "Data types  in Python are as follows:\n",
    "\n",
    "1. Integer\n",
    "2. Float\n",
    "3. String\n",
    "\n",
    "'''\n"
   ]
  },
  {
   "cell_type": "code",
   "execution_count": 37,
   "id": "ef0ac811",
   "metadata": {},
   "outputs": [
    {
     "name": "stdout",
     "output_type": "stream",
     "text": [
      "<class 'int'>\n",
      "<class 'float'>\n",
      "<class 'str'>\n"
     ]
    }
   ],
   "source": [
    "# Checking Datatype Variable\n",
    "\n",
    "print(type(number))\n",
    "print(type(decimal))\n",
    "print(type(string))\n"
   ]
  },
  {
   "cell_type": "code",
   "execution_count": 38,
   "id": "b767b695-096f-4231-9b9c-90c77453a116",
   "metadata": {},
   "outputs": [
    {
     "name": "stdout",
     "output_type": "stream",
     "text": [
      "25\n"
     ]
    }
   ],
   "source": [
    "# Type Casting of Data type\n",
    "num = 25.55 #Datatype : Float\n",
    "\n",
    "print(int(num)) #Float is typecasted into int\n"
   ]
  },
  {
   "cell_type": "code",
   "execution_count": 39,
   "id": "cfdee25e-7639-42de-85da-dbb7cacc6655",
   "metadata": {},
   "outputs": [
    {
     "name": "stdout",
     "output_type": "stream",
     "text": [
      "Your value is 25\n",
      "<class 'str'>\n",
      "25\n",
      "25.0\n"
     ]
    }
   ],
   "source": [
    "#Using input function\n",
    "\n",
    "num = input(\"enter your value:\")\n",
    "print(\"Your value is\",(num))\n",
    "print(type(num))\n",
    "\n",
    "\n",
    "#Doing type casting\n",
    "\n",
    "print(int(num))\n",
    "print(float(num))\n"
   ]
  },
  {
   "cell_type": "code",
   "execution_count": 40,
   "id": "50699da9",
   "metadata": {},
   "outputs": [
    {
     "name": "stdout",
     "output_type": "stream",
     "text": [
      "your name is tousif\n"
     ]
    }
   ],
   "source": [
    "str = input (\"enter your name\")\n",
    "print (\"your name is\",str)"
   ]
  },
  {
   "cell_type": "code",
   "execution_count": 41,
   "id": "2af4c0ac",
   "metadata": {},
   "outputs": [
    {
     "name": "stdout",
     "output_type": "stream",
     "text": [
      "the addition of two number as 20.0 and25.0 is 45.0\n"
     ]
    }
   ],
   "source": [
    "# perform Mathmatical Operation \n",
    "num1 = float(input('Enter the first Number'))\n",
    "num2 = float(input('Enter the second Number'))\n",
    "\n",
    "num3 = num1 + num2\n",
    "\n",
    "#using fstring method \n",
    "print(f'the addition of two number as {num1} and{num2} is',num3)"
   ]
  },
  {
   "cell_type": "code",
   "execution_count": 42,
   "id": "f49f1c5a",
   "metadata": {},
   "outputs": [
    {
     "name": "stdout",
     "output_type": "stream",
     "text": [
      "w\n",
      "w\n"
     ]
    }
   ],
   "source": [
    "#Strings Indexing and Slicing\n",
    "\n",
    "string = input('Enter the string')\n",
    "\n",
    "'''\n",
    "H e l l o   W o r l d\n",
    "0 1 2 3 4 5 6 7 8 9 10    :L--->R\n",
    "...............-3-2-1     :R-->L\n",
    "'''\n",
    "print(string[6])   #Indexing\n",
    "print(string[-5])  #Indexing\n"
   ]
  },
  {
   "cell_type": "code",
   "execution_count": 43,
   "id": "418292a7",
   "metadata": {},
   "outputs": [
    {
     "name": "stdout",
     "output_type": "stream",
     "text": [
      "ell\n",
      "hello worl\n",
      "\n",
      "o worl\n"
     ]
    }
   ],
   "source": [
    "# Concept of Slicing\n",
    "string = input('Enter the string')\n",
    "'''\n",
    "string[start:stop]\n",
    "Example:\n",
    "string = Hello World\n",
    "string = Hello World\n",
    "string[1:4]  ---> o/p :ell\n",
    "'''\n",
    "print(string[1:4])\n",
    "print(string[:-1])\n",
    "print(string[2:2])\n",
    "print(string[4:-1])"
   ]
  },
  {
   "cell_type": "code",
   "execution_count": 44,
   "id": "3d56938e",
   "metadata": {},
   "outputs": [
    {
     "name": "stdout",
     "output_type": "stream",
     "text": [
      "el ol\n"
     ]
    }
   ],
   "source": [
    "# Concept of Slicing\n",
    "string = input('Enter the string')\n",
    "'''\n",
    "string[start:stop:step]\n",
    "Example:\n",
    "string = Hello World\n",
    "string = Hello World\n",
    "string[1:4]  ---> o/p :ell\n",
    "'''\n",
    "print(string[1::2])"
   ]
  },
  {
   "cell_type": "code",
   "execution_count": 45,
   "id": "f2d5c039",
   "metadata": {},
   "outputs": [
    {
     "name": "stdout",
     "output_type": "stream",
     "text": [
      "Hlowloet h ol fpto rgamn\n",
      "o welcome to the world of python programmi\n",
      "gnimmargorp nohtyp fo dlrow eht ot emoclew olleH\n"
     ]
    }
   ],
   "source": [
    "#concept of Indexing and Slicing Together\n",
    "str = 'Hello welcome to the world of python programming'\n",
    "print(str[::2])\n",
    "print(str[4:-2:])\n",
    "print(str[::-1])"
   ]
  },
  {
   "cell_type": "code",
   "execution_count": 46,
   "id": "0f97311f",
   "metadata": {},
   "outputs": [
    {
     "name": "stdout",
     "output_type": "stream",
     "text": [
      "[10, 20, 30, 40]\n",
      "<class 'list'>\n",
      "[10, 20, 30, 40, 50]\n"
     ]
    }
   ],
   "source": [
    "# Data Structures in python programming\n",
    "\n",
    "'''\n",
    "1. List : []  . Mutable in Nature\n",
    "2. Tuple :() . Immutable in Nature\n",
    "3. Dictionary : {'key1':Value, 'key2',Value2} : Immutable in Nature\n",
    "4. sets  : {1,2,3,4,5} : Immutable in Nature\n",
    "'''\n",
    "# if Your are performming any computational software development program tuple is most preferred\n",
    "# List Definition \n",
    "\n",
    "lst = [10,20,30,40]\n",
    "print(lst)\n",
    "print(type(lst))\n",
    "# append() this is function which defined in class list \n",
    "# Therefore, append() is a method of class list \n",
    "# lst. append(50) :you are calling function using. operator\n",
    "lst.append(50)\n",
    "print(lst)"
   ]
  },
  {
   "cell_type": "code",
   "execution_count": 47,
   "id": "323370bc",
   "metadata": {},
   "outputs": [
    {
     "name": "stdout",
     "output_type": "stream",
     "text": [
      "[5, 10, 20, 30, 40, 50]\n"
     ]
    }
   ],
   "source": [
    "lst.insert(0,5) #this function will add the value 5 at an index 0\n",
    "print(lst)"
   ]
  },
  {
   "cell_type": "code",
   "execution_count": 48,
   "id": "fe5bc282",
   "metadata": {},
   "outputs": [
    {
     "data": {
      "text/plain": [
       "1"
      ]
     },
     "execution_count": 48,
     "metadata": {},
     "output_type": "execute_result"
    }
   ],
   "source": [
    "lst.count(50) #use to count a particular number count"
   ]
  },
  {
   "cell_type": "code",
   "execution_count": 49,
   "id": "92b22660",
   "metadata": {},
   "outputs": [
    {
     "data": {
      "text/plain": [
       "50"
      ]
     },
     "execution_count": 49,
     "metadata": {},
     "output_type": "execute_result"
    }
   ],
   "source": [
    "lst.pop() #this is use to pop or delete the last value"
   ]
  },
  {
   "cell_type": "code",
   "execution_count": 50,
   "id": "031df9eb",
   "metadata": {},
   "outputs": [
    {
     "name": "stdout",
     "output_type": "stream",
     "text": [
      "[5, 10, 20, 30, 40]\n"
     ]
    }
   ],
   "source": [
    "print(lst)"
   ]
  },
  {
   "cell_type": "code",
   "execution_count": 51,
   "id": "9eda2eea",
   "metadata": {},
   "outputs": [],
   "source": [
    "lst.insert(3,10)"
   ]
  },
  {
   "cell_type": "code",
   "execution_count": 52,
   "id": "8d62a186",
   "metadata": {},
   "outputs": [
    {
     "name": "stdout",
     "output_type": "stream",
     "text": [
      "[5, 10, 20, 10, 30, 40]\n"
     ]
    }
   ],
   "source": [
    "print(lst)"
   ]
  },
  {
   "cell_type": "code",
   "execution_count": 53,
   "id": "18ce2de7",
   "metadata": {},
   "outputs": [
    {
     "name": "stdout",
     "output_type": "stream",
     "text": [
      "[5, 20, 10, 30, 40]\n"
     ]
    }
   ],
   "source": [
    "lst.remove(10) #use to remove a specified value\n",
    "print(lst)"
   ]
  },
  {
   "cell_type": "code",
   "execution_count": null,
   "id": "6a96d021",
   "metadata": {},
   "outputs": [
    {
     "name": "stdout",
     "output_type": "stream",
     "text": [
      "[10, 20, 20, 5, 50]\n"
     ]
    }
   ],
   "source": [
    "lst=[10,10,20,30,20,5,50,20] #new list\n",
    "lst.pop()\n",
    "lst.remove(10)\n",
    "lst.remove(30)\n",
    "print(lst)"
   ]
  },
  {
   "cell_type": "code",
   "execution_count": 55,
   "id": "6c0a06dc",
   "metadata": {},
   "outputs": [
    {
     "name": "stdout",
     "output_type": "stream",
     "text": [
      "[10, 30, 50]\n",
      "[60, 50, 40, 30, 20, 10]\n",
      "30\n"
     ]
    }
   ],
   "source": [
    "#concept of indexing and slicing on list\n",
    "lst=[10,20,30,40,50,60]\n",
    "print(lst[0::2])\n",
    "print(lst [::-1])\n",
    "print(lst [2])\n",
    "      "
   ]
  },
  {
   "cell_type": "code",
   "execution_count": 56,
   "id": "a97aa771",
   "metadata": {},
   "outputs": [
    {
     "data": {
      "text/plain": [
       "5"
      ]
     },
     "execution_count": 56,
     "metadata": {},
     "output_type": "execute_result"
    }
   ],
   "source": [
    "lst = [10,20,30,[40,50,60],[1,[2,[3,4,5,6],7],8,9],10]\n",
    "#need output 5\n",
    "lst[4][1][1][2]"
   ]
  },
  {
   "cell_type": "code",
   "execution_count": 57,
   "id": "601a2f0e",
   "metadata": {},
   "outputs": [],
   "source": [
    "lst = [10,20,[1,2,3,[10,20,[30,[40,50,[60],70],90],9,100],1000],2000,[10000]]\n",
    "# need output 60"
   ]
  },
  {
   "cell_type": "code",
   "execution_count": 58,
   "id": "a6b0dba6",
   "metadata": {},
   "outputs": [
    {
     "data": {
      "text/plain": [
       "60"
      ]
     },
     "execution_count": 58,
     "metadata": {},
     "output_type": "execute_result"
    }
   ],
   "source": [
    "lst[2][3][2][1][2][0]"
   ]
  }
 ],
 "metadata": {
  "kernelspec": {
   "display_name": "Python 3",
   "language": "python",
   "name": "python3"
  },
  "language_info": {
   "codemirror_mode": {
    "name": "ipython",
    "version": 3
   },
   "file_extension": ".py",
   "mimetype": "text/x-python",
   "name": "python",
   "nbconvert_exporter": "python",
   "pygments_lexer": "ipython3",
   "version": "3.12.7"
  }
 },
 "nbformat": 4,
 "nbformat_minor": 5
}
