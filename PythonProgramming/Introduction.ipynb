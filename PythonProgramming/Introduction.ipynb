{
 "cells": [
  {
   "cell_type": "markdown",
   "id": "488ba941",
   "metadata": {},
   "source": [
    "### Introduction to Python Programming\n",
    "\n"
   ]
  },
  {
   "cell_type": "code",
   "execution_count": null,
   "id": "2a5e2a71",
   "metadata": {},
   "outputs": [
    {
     "data": {
      "text/plain": [
       "'\\nData types  in Python are as follows:\\n\\n1. Integer\\n2. Float\\n3. String\\n\\n'"
      ]
     },
     "execution_count": 1,
     "metadata": {},
     "output_type": "execute_result"
    }
   ],
   "source": [
    "# Variable  Defination\n",
    "\n",
    "number =  1000  #Defining Integer Variable\n",
    "decimal = 10.33 #Defining Float Variable\n",
    "string = \"Hello World\" # Defining String\n",
    "'''\n",
    "Data types  in Python are as follows:\n",
    "\n",
    "1. Integer\n",
    "2. Float\n",
    "3. String\n",
    "\n",
    "'''\n"
   ]
  },
  {
   "cell_type": "code",
   "execution_count": 4,
   "id": "ef0ac811",
   "metadata": {},
   "outputs": [
    {
     "name": "stdout",
     "output_type": "stream",
     "text": [
      "<class 'int'>\n",
      "<class 'float'>\n",
      "<class 'str'>\n"
     ]
    }
   ],
   "source": [
    "# Checking Datatype Variable\n",
    "\n",
    "print(type(number))\n",
    "print(type(decimal))\n",
    "print(type(string))\n"
   ]
  }
 ],
 "metadata": {
  "kernelspec": {
   "display_name": "base",
   "language": "python",
   "name": "python3"
  },
  "language_info": {
   "codemirror_mode": {
    "name": "ipython",
    "version": 3
   },
   "file_extension": ".py",
   "mimetype": "text/x-python",
   "name": "python",
   "nbconvert_exporter": "python",
   "pygments_lexer": "ipython3",
   "version": "3.12.7"
  }
 },
 "nbformat": 4,
 "nbformat_minor": 5
}
