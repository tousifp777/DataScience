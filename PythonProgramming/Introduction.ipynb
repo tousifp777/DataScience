{
 "cells": [
  {
   "cell_type": "markdown",
   "id": "488ba941",
   "metadata": {},
   "source": [
    "### Introduction to Python Programming\n",
    "\n"
   ]
  },
  {
   "cell_type": "code",
   "execution_count": 5,
   "id": "2a5e2a71",
   "metadata": {},
   "outputs": [
    {
     "data": {
      "text/plain": [
       "'\\nData types  in Python are as follows:\\n\\n1. Integer\\n2. Float\\n3. String\\n\\n'"
      ]
     },
     "execution_count": 5,
     "metadata": {},
     "output_type": "execute_result"
    }
   ],
   "source": [
    "# Variable  Defination\n",
    "\n",
    "number =  1000  #Defining Integer Variable\n",
    "decimal = 10.33 #Defining Float Variable\n",
    "string = \"Hello World\" # Defining String\n",
    "\n",
    "'''\n",
    "Data types  in Python are as follows:\n",
    "\n",
    "1. Integer\n",
    "2. Float\n",
    "3. String\n",
    "\n",
    "'''\n"
   ]
  },
  {
   "cell_type": "code",
   "execution_count": 6,
   "id": "ef0ac811",
   "metadata": {},
   "outputs": [
    {
     "name": "stdout",
     "output_type": "stream",
     "text": [
      "<class 'int'>\n",
      "<class 'float'>\n",
      "<class 'str'>\n"
     ]
    }
   ],
   "source": [
    "# Checking Datatype Variable\n",
    "\n",
    "print(type(number))\n",
    "print(type(decimal))\n",
    "print(type(string))\n"
   ]
  },
  {
   "cell_type": "code",
   "execution_count": 7,
   "id": "b767b695-096f-4231-9b9c-90c77453a116",
   "metadata": {},
   "outputs": [
    {
     "name": "stdout",
     "output_type": "stream",
     "text": [
      "25\n"
     ]
    }
   ],
   "source": [
    "# Type Casting of Data type\n",
    "num = 25.55 #Datatype : Float\n",
    "\n",
    "print(int(num)) #Float is typecasted into int\n"
   ]
  },
  {
   "cell_type": "code",
   "execution_count": 8,
   "id": "cfdee25e-7639-42de-85da-dbb7cacc6655",
   "metadata": {},
   "outputs": [
    {
     "name": "stdout",
     "output_type": "stream",
     "text": [
      "Your value is 23\n",
      "<class 'str'>\n",
      "23\n",
      "23.0\n"
     ]
    }
   ],
   "source": [
    "#Using input function\n",
    "\n",
    "num = input(\"enter your value:\")\n",
    "print(\"Your value is\",(num))\n",
    "print(type(num))\n",
    "\n",
    "\n",
    "#Doing type casting\n",
    "\n",
    "print(int(num))\n",
    "print(float(num))\n"
   ]
  },
  {
   "cell_type": "code",
   "execution_count": 9,
   "id": "50699da9",
   "metadata": {},
   "outputs": [
    {
     "name": "stdout",
     "output_type": "stream",
     "text": [
      "your name is ajay\n"
     ]
    }
   ],
   "source": [
    "str = input (\"enter your name\")\n",
    "print (\"your name is\",str)"
   ]
  },
  {
   "cell_type": "code",
   "execution_count": null,
   "id": "2af4c0ac",
   "metadata": {},
   "outputs": [],
   "source": []
  }
 ],
 "metadata": {
  "kernelspec": {
   "display_name": "Python 3",
   "language": "python",
   "name": "python3"
  },
  "language_info": {
   "codemirror_mode": {
    "name": "ipython",
    "version": 3
   },
   "file_extension": ".py",
   "mimetype": "text/x-python",
   "name": "python",
   "nbconvert_exporter": "python",
   "pygments_lexer": "ipython3",
   "version": "3.12.7"
  }
 },
 "nbformat": 4,
 "nbformat_minor": 5
}
